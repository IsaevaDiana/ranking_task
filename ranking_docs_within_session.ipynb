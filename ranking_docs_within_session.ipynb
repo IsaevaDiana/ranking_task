{
  "nbformat": 4,
  "nbformat_minor": 0,
  "metadata": {
    "colab": {
      "provenance": []
    },
    "kernelspec": {
      "name": "python3",
      "display_name": "Python 3"
    },
    "language_info": {
      "name": "python"
    }
  },
  "cells": [
    {
      "cell_type": "markdown",
      "source": [
        "Подготовка и проверка датасета"
      ],
      "metadata": {
        "id": "b3Vtt-Dk7PNt"
      }
    },
    {
      "cell_type": "code",
      "execution_count": 2,
      "metadata": {
        "colab": {
          "base_uri": "https://localhost:8080/",
          "height": 255
        },
        "id": "FfK-mV3l3BS9",
        "outputId": "ea5e6cb6-44d1-4227-90fe-2e41e8758893"
      },
      "outputs": [
        {
          "output_type": "execute_result",
          "data": {
            "text/plain": [
              "   rank  query_id  feature_0  feature_1  feature_2  feature_3  feature_4  \\\n",
              "0     0        10        1.0        0.0        1.0        3.0        3.0   \n",
              "1     1        10        3.0        0.0        3.0        0.0        3.0   \n",
              "2     0        10        3.0        0.0        2.0        0.0        3.0   \n",
              "3     1        10        3.0        0.0        3.0        0.0        3.0   \n",
              "4     2        10        3.0        0.0        3.0        1.0        3.0   \n",
              "\n",
              "   feature_5  feature_6  feature_7  ...  feature_134  feature_135  \\\n",
              "0   0.333333        0.0   0.333333  ...          0.0     0.000000   \n",
              "1   1.000000        0.0   1.000000  ...          0.0     0.000000   \n",
              "2   1.000000        0.0   0.666667  ...          0.0     0.000000   \n",
              "3   1.000000        0.0   1.000000  ...          0.0     0.000000   \n",
              "4   1.000000        0.0   1.000000  ...        273.0    79.670665   \n",
              "\n",
              "   feature_136  feature_137  feature_138  feature_139  feature_140  \\\n",
              "0     0.454545     0.890238     8.655534     1.000000     0.077778   \n",
              "1     0.000000     0.773976    23.130514     0.000000     0.027826   \n",
              "2     0.000000     0.918308    13.351339     0.000000     0.014925   \n",
              "3     0.000000     0.975355    18.240926     0.000000     0.053140   \n",
              "4     0.200000     0.990119    31.786048     0.333333     0.046512   \n",
              "\n",
              "   feature_141  feature_142  feature_143  \n",
              "0     0.002222          1.0     0.333333  \n",
              "1     0.000430         44.0    14.666667  \n",
              "2     0.000104         22.0     7.333333  \n",
              "3     0.000255          8.0     2.666667  \n",
              "4     0.000307         24.0     8.000000  \n",
              "\n",
              "[5 rows x 146 columns]"
            ],
            "text/html": [
              "\n",
              "  <div id=\"df-b35a9ec8-5a13-4282-a755-7fe42c8b23e1\" class=\"colab-df-container\">\n",
              "    <div>\n",
              "<style scoped>\n",
              "    .dataframe tbody tr th:only-of-type {\n",
              "        vertical-align: middle;\n",
              "    }\n",
              "\n",
              "    .dataframe tbody tr th {\n",
              "        vertical-align: top;\n",
              "    }\n",
              "\n",
              "    .dataframe thead th {\n",
              "        text-align: right;\n",
              "    }\n",
              "</style>\n",
              "<table border=\"1\" class=\"dataframe\">\n",
              "  <thead>\n",
              "    <tr style=\"text-align: right;\">\n",
              "      <th></th>\n",
              "      <th>rank</th>\n",
              "      <th>query_id</th>\n",
              "      <th>feature_0</th>\n",
              "      <th>feature_1</th>\n",
              "      <th>feature_2</th>\n",
              "      <th>feature_3</th>\n",
              "      <th>feature_4</th>\n",
              "      <th>feature_5</th>\n",
              "      <th>feature_6</th>\n",
              "      <th>feature_7</th>\n",
              "      <th>...</th>\n",
              "      <th>feature_134</th>\n",
              "      <th>feature_135</th>\n",
              "      <th>feature_136</th>\n",
              "      <th>feature_137</th>\n",
              "      <th>feature_138</th>\n",
              "      <th>feature_139</th>\n",
              "      <th>feature_140</th>\n",
              "      <th>feature_141</th>\n",
              "      <th>feature_142</th>\n",
              "      <th>feature_143</th>\n",
              "    </tr>\n",
              "  </thead>\n",
              "  <tbody>\n",
              "    <tr>\n",
              "      <th>0</th>\n",
              "      <td>0</td>\n",
              "      <td>10</td>\n",
              "      <td>1.0</td>\n",
              "      <td>0.0</td>\n",
              "      <td>1.0</td>\n",
              "      <td>3.0</td>\n",
              "      <td>3.0</td>\n",
              "      <td>0.333333</td>\n",
              "      <td>0.0</td>\n",
              "      <td>0.333333</td>\n",
              "      <td>...</td>\n",
              "      <td>0.0</td>\n",
              "      <td>0.000000</td>\n",
              "      <td>0.454545</td>\n",
              "      <td>0.890238</td>\n",
              "      <td>8.655534</td>\n",
              "      <td>1.000000</td>\n",
              "      <td>0.077778</td>\n",
              "      <td>0.002222</td>\n",
              "      <td>1.0</td>\n",
              "      <td>0.333333</td>\n",
              "    </tr>\n",
              "    <tr>\n",
              "      <th>1</th>\n",
              "      <td>1</td>\n",
              "      <td>10</td>\n",
              "      <td>3.0</td>\n",
              "      <td>0.0</td>\n",
              "      <td>3.0</td>\n",
              "      <td>0.0</td>\n",
              "      <td>3.0</td>\n",
              "      <td>1.000000</td>\n",
              "      <td>0.0</td>\n",
              "      <td>1.000000</td>\n",
              "      <td>...</td>\n",
              "      <td>0.0</td>\n",
              "      <td>0.000000</td>\n",
              "      <td>0.000000</td>\n",
              "      <td>0.773976</td>\n",
              "      <td>23.130514</td>\n",
              "      <td>0.000000</td>\n",
              "      <td>0.027826</td>\n",
              "      <td>0.000430</td>\n",
              "      <td>44.0</td>\n",
              "      <td>14.666667</td>\n",
              "    </tr>\n",
              "    <tr>\n",
              "      <th>2</th>\n",
              "      <td>0</td>\n",
              "      <td>10</td>\n",
              "      <td>3.0</td>\n",
              "      <td>0.0</td>\n",
              "      <td>2.0</td>\n",
              "      <td>0.0</td>\n",
              "      <td>3.0</td>\n",
              "      <td>1.000000</td>\n",
              "      <td>0.0</td>\n",
              "      <td>0.666667</td>\n",
              "      <td>...</td>\n",
              "      <td>0.0</td>\n",
              "      <td>0.000000</td>\n",
              "      <td>0.000000</td>\n",
              "      <td>0.918308</td>\n",
              "      <td>13.351339</td>\n",
              "      <td>0.000000</td>\n",
              "      <td>0.014925</td>\n",
              "      <td>0.000104</td>\n",
              "      <td>22.0</td>\n",
              "      <td>7.333333</td>\n",
              "    </tr>\n",
              "    <tr>\n",
              "      <th>3</th>\n",
              "      <td>1</td>\n",
              "      <td>10</td>\n",
              "      <td>3.0</td>\n",
              "      <td>0.0</td>\n",
              "      <td>3.0</td>\n",
              "      <td>0.0</td>\n",
              "      <td>3.0</td>\n",
              "      <td>1.000000</td>\n",
              "      <td>0.0</td>\n",
              "      <td>1.000000</td>\n",
              "      <td>...</td>\n",
              "      <td>0.0</td>\n",
              "      <td>0.000000</td>\n",
              "      <td>0.000000</td>\n",
              "      <td>0.975355</td>\n",
              "      <td>18.240926</td>\n",
              "      <td>0.000000</td>\n",
              "      <td>0.053140</td>\n",
              "      <td>0.000255</td>\n",
              "      <td>8.0</td>\n",
              "      <td>2.666667</td>\n",
              "    </tr>\n",
              "    <tr>\n",
              "      <th>4</th>\n",
              "      <td>2</td>\n",
              "      <td>10</td>\n",
              "      <td>3.0</td>\n",
              "      <td>0.0</td>\n",
              "      <td>3.0</td>\n",
              "      <td>1.0</td>\n",
              "      <td>3.0</td>\n",
              "      <td>1.000000</td>\n",
              "      <td>0.0</td>\n",
              "      <td>1.000000</td>\n",
              "      <td>...</td>\n",
              "      <td>273.0</td>\n",
              "      <td>79.670665</td>\n",
              "      <td>0.200000</td>\n",
              "      <td>0.990119</td>\n",
              "      <td>31.786048</td>\n",
              "      <td>0.333333</td>\n",
              "      <td>0.046512</td>\n",
              "      <td>0.000307</td>\n",
              "      <td>24.0</td>\n",
              "      <td>8.000000</td>\n",
              "    </tr>\n",
              "  </tbody>\n",
              "</table>\n",
              "<p>5 rows × 146 columns</p>\n",
              "</div>\n",
              "    <div class=\"colab-df-buttons\">\n",
              "\n",
              "  <div class=\"colab-df-container\">\n",
              "    <button class=\"colab-df-convert\" onclick=\"convertToInteractive('df-b35a9ec8-5a13-4282-a755-7fe42c8b23e1')\"\n",
              "            title=\"Convert this dataframe to an interactive table.\"\n",
              "            style=\"display:none;\">\n",
              "\n",
              "  <svg xmlns=\"http://www.w3.org/2000/svg\" height=\"24px\" viewBox=\"0 -960 960 960\">\n",
              "    <path d=\"M120-120v-720h720v720H120Zm60-500h600v-160H180v160Zm220 220h160v-160H400v160Zm0 220h160v-160H400v160ZM180-400h160v-160H180v160Zm440 0h160v-160H620v160ZM180-180h160v-160H180v160Zm440 0h160v-160H620v160Z\"/>\n",
              "  </svg>\n",
              "    </button>\n",
              "\n",
              "  <style>\n",
              "    .colab-df-container {\n",
              "      display:flex;\n",
              "      gap: 12px;\n",
              "    }\n",
              "\n",
              "    .colab-df-convert {\n",
              "      background-color: #E8F0FE;\n",
              "      border: none;\n",
              "      border-radius: 50%;\n",
              "      cursor: pointer;\n",
              "      display: none;\n",
              "      fill: #1967D2;\n",
              "      height: 32px;\n",
              "      padding: 0 0 0 0;\n",
              "      width: 32px;\n",
              "    }\n",
              "\n",
              "    .colab-df-convert:hover {\n",
              "      background-color: #E2EBFA;\n",
              "      box-shadow: 0px 1px 2px rgba(60, 64, 67, 0.3), 0px 1px 3px 1px rgba(60, 64, 67, 0.15);\n",
              "      fill: #174EA6;\n",
              "    }\n",
              "\n",
              "    .colab-df-buttons div {\n",
              "      margin-bottom: 4px;\n",
              "    }\n",
              "\n",
              "    [theme=dark] .colab-df-convert {\n",
              "      background-color: #3B4455;\n",
              "      fill: #D2E3FC;\n",
              "    }\n",
              "\n",
              "    [theme=dark] .colab-df-convert:hover {\n",
              "      background-color: #434B5C;\n",
              "      box-shadow: 0px 1px 3px 1px rgba(0, 0, 0, 0.15);\n",
              "      filter: drop-shadow(0px 1px 2px rgba(0, 0, 0, 0.3));\n",
              "      fill: #FFFFFF;\n",
              "    }\n",
              "  </style>\n",
              "\n",
              "    <script>\n",
              "      const buttonEl =\n",
              "        document.querySelector('#df-b35a9ec8-5a13-4282-a755-7fe42c8b23e1 button.colab-df-convert');\n",
              "      buttonEl.style.display =\n",
              "        google.colab.kernel.accessAllowed ? 'block' : 'none';\n",
              "\n",
              "      async function convertToInteractive(key) {\n",
              "        const element = document.querySelector('#df-b35a9ec8-5a13-4282-a755-7fe42c8b23e1');\n",
              "        const dataTable =\n",
              "          await google.colab.kernel.invokeFunction('convertToInteractive',\n",
              "                                                    [key], {});\n",
              "        if (!dataTable) return;\n",
              "\n",
              "        const docLinkHtml = 'Like what you see? Visit the ' +\n",
              "          '<a target=\"_blank\" href=https://colab.research.google.com/notebooks/data_table.ipynb>data table notebook</a>'\n",
              "          + ' to learn more about interactive tables.';\n",
              "        element.innerHTML = '';\n",
              "        dataTable['output_type'] = 'display_data';\n",
              "        await google.colab.output.renderOutput(dataTable, element);\n",
              "        const docLink = document.createElement('div');\n",
              "        docLink.innerHTML = docLinkHtml;\n",
              "        element.appendChild(docLink);\n",
              "      }\n",
              "    </script>\n",
              "  </div>\n",
              "\n",
              "\n",
              "<div id=\"df-c7c02699-b1c1-42aa-9c2f-51e0215aa071\">\n",
              "  <button class=\"colab-df-quickchart\" onclick=\"quickchart('df-c7c02699-b1c1-42aa-9c2f-51e0215aa071')\"\n",
              "            title=\"Suggest charts\"\n",
              "            style=\"display:none;\">\n",
              "\n",
              "<svg xmlns=\"http://www.w3.org/2000/svg\" height=\"24px\"viewBox=\"0 0 24 24\"\n",
              "     width=\"24px\">\n",
              "    <g>\n",
              "        <path d=\"M19 3H5c-1.1 0-2 .9-2 2v14c0 1.1.9 2 2 2h14c1.1 0 2-.9 2-2V5c0-1.1-.9-2-2-2zM9 17H7v-7h2v7zm4 0h-2V7h2v10zm4 0h-2v-4h2v4z\"/>\n",
              "    </g>\n",
              "</svg>\n",
              "  </button>\n",
              "\n",
              "<style>\n",
              "  .colab-df-quickchart {\n",
              "      --bg-color: #E8F0FE;\n",
              "      --fill-color: #1967D2;\n",
              "      --hover-bg-color: #E2EBFA;\n",
              "      --hover-fill-color: #174EA6;\n",
              "      --disabled-fill-color: #AAA;\n",
              "      --disabled-bg-color: #DDD;\n",
              "  }\n",
              "\n",
              "  [theme=dark] .colab-df-quickchart {\n",
              "      --bg-color: #3B4455;\n",
              "      --fill-color: #D2E3FC;\n",
              "      --hover-bg-color: #434B5C;\n",
              "      --hover-fill-color: #FFFFFF;\n",
              "      --disabled-bg-color: #3B4455;\n",
              "      --disabled-fill-color: #666;\n",
              "  }\n",
              "\n",
              "  .colab-df-quickchart {\n",
              "    background-color: var(--bg-color);\n",
              "    border: none;\n",
              "    border-radius: 50%;\n",
              "    cursor: pointer;\n",
              "    display: none;\n",
              "    fill: var(--fill-color);\n",
              "    height: 32px;\n",
              "    padding: 0;\n",
              "    width: 32px;\n",
              "  }\n",
              "\n",
              "  .colab-df-quickchart:hover {\n",
              "    background-color: var(--hover-bg-color);\n",
              "    box-shadow: 0 1px 2px rgba(60, 64, 67, 0.3), 0 1px 3px 1px rgba(60, 64, 67, 0.15);\n",
              "    fill: var(--button-hover-fill-color);\n",
              "  }\n",
              "\n",
              "  .colab-df-quickchart-complete:disabled,\n",
              "  .colab-df-quickchart-complete:disabled:hover {\n",
              "    background-color: var(--disabled-bg-color);\n",
              "    fill: var(--disabled-fill-color);\n",
              "    box-shadow: none;\n",
              "  }\n",
              "\n",
              "  .colab-df-spinner {\n",
              "    border: 2px solid var(--fill-color);\n",
              "    border-color: transparent;\n",
              "    border-bottom-color: var(--fill-color);\n",
              "    animation:\n",
              "      spin 1s steps(1) infinite;\n",
              "  }\n",
              "\n",
              "  @keyframes spin {\n",
              "    0% {\n",
              "      border-color: transparent;\n",
              "      border-bottom-color: var(--fill-color);\n",
              "      border-left-color: var(--fill-color);\n",
              "    }\n",
              "    20% {\n",
              "      border-color: transparent;\n",
              "      border-left-color: var(--fill-color);\n",
              "      border-top-color: var(--fill-color);\n",
              "    }\n",
              "    30% {\n",
              "      border-color: transparent;\n",
              "      border-left-color: var(--fill-color);\n",
              "      border-top-color: var(--fill-color);\n",
              "      border-right-color: var(--fill-color);\n",
              "    }\n",
              "    40% {\n",
              "      border-color: transparent;\n",
              "      border-right-color: var(--fill-color);\n",
              "      border-top-color: var(--fill-color);\n",
              "    }\n",
              "    60% {\n",
              "      border-color: transparent;\n",
              "      border-right-color: var(--fill-color);\n",
              "    }\n",
              "    80% {\n",
              "      border-color: transparent;\n",
              "      border-right-color: var(--fill-color);\n",
              "      border-bottom-color: var(--fill-color);\n",
              "    }\n",
              "    90% {\n",
              "      border-color: transparent;\n",
              "      border-bottom-color: var(--fill-color);\n",
              "    }\n",
              "  }\n",
              "</style>\n",
              "\n",
              "  <script>\n",
              "    async function quickchart(key) {\n",
              "      const quickchartButtonEl =\n",
              "        document.querySelector('#' + key + ' button');\n",
              "      quickchartButtonEl.disabled = true;  // To prevent multiple clicks.\n",
              "      quickchartButtonEl.classList.add('colab-df-spinner');\n",
              "      try {\n",
              "        const charts = await google.colab.kernel.invokeFunction(\n",
              "            'suggestCharts', [key], {});\n",
              "      } catch (error) {\n",
              "        console.error('Error during call to suggestCharts:', error);\n",
              "      }\n",
              "      quickchartButtonEl.classList.remove('colab-df-spinner');\n",
              "      quickchartButtonEl.classList.add('colab-df-quickchart-complete');\n",
              "    }\n",
              "    (() => {\n",
              "      let quickchartButtonEl =\n",
              "        document.querySelector('#df-c7c02699-b1c1-42aa-9c2f-51e0215aa071 button');\n",
              "      quickchartButtonEl.style.display =\n",
              "        google.colab.kernel.accessAllowed ? 'block' : 'none';\n",
              "    })();\n",
              "  </script>\n",
              "</div>\n",
              "    </div>\n",
              "  </div>\n"
            ],
            "application/vnd.google.colaboratory.intrinsic+json": {
              "type": "dataframe",
              "variable_name": "data"
            }
          },
          "metadata": {},
          "execution_count": 2
        }
      ],
      "source": [
        "import pandas as pd\n",
        "data = pd.read_csv('./intern_task.csv')\n",
        "data.head()"
      ]
    },
    {
      "cell_type": "code",
      "source": [
        "data.info()"
      ],
      "metadata": {
        "colab": {
          "base_uri": "https://localhost:8080/"
        },
        "id": "KVU-PNv96W7V",
        "outputId": "c7303f76-8b17-4448-8c58-0b84322d5456"
      },
      "execution_count": 3,
      "outputs": [
        {
          "output_type": "stream",
          "name": "stdout",
          "text": [
            "<class 'pandas.core.frame.DataFrame'>\n",
            "RangeIndex: 235258 entries, 0 to 235257\n",
            "Columns: 146 entries, rank to feature_143\n",
            "dtypes: float64(140), int64(6)\n",
            "memory usage: 262.1 MB\n"
          ]
        }
      ]
    },
    {
      "cell_type": "code",
      "source": [
        "missing_values = data.isnull().sum()\n",
        "print(missing_values.sum())"
      ],
      "metadata": {
        "colab": {
          "base_uri": "https://localhost:8080/"
        },
        "id": "FNQTnS_f-Xsf",
        "outputId": "cb25477c-2898-4a90-a911-65e5f72bc153"
      },
      "execution_count": 9,
      "outputs": [
        {
          "output_type": "stream",
          "name": "stdout",
          "text": [
            "0\n"
          ]
        }
      ]
    },
    {
      "cell_type": "code",
      "source": [
        "import matplotlib.pyplot as plt\n",
        "\n",
        "plt.hist(data['rank'], bins=20)\n",
        "\n",
        "plt.xlabel('Rank')\n",
        "plt.ylabel('Frequency')\n",
        "plt.title('Rank Histogram')"
      ],
      "metadata": {
        "colab": {
          "base_uri": "https://localhost:8080/",
          "height": 490
        },
        "id": "7YnR1Uyw9fd6",
        "outputId": "61bc54a9-5160-4e73-a5ce-12e8048afee4"
      },
      "execution_count": 10,
      "outputs": [
        {
          "output_type": "execute_result",
          "data": {
            "text/plain": [
              "Text(0.5, 1.0, 'Rank Histogram')"
            ]
          },
          "metadata": {},
          "execution_count": 10
        },
        {
          "output_type": "display_data",
          "data": {
            "text/plain": [
              "<Figure size 640x480 with 1 Axes>"
            ],
            "image/png": "[encoded data removed]"
          },
          "metadata": {}
        }
      ]
    },
    {
      "cell_type": "code",
      "source": [
        "from sklearn.model_selection import train_test_split\n",
        "\n",
        "sorted_data = data.sort_values(by='query_id')\n",
        "\n",
        "qid = sorted_data['query_id']\n",
        "\n",
        "feature = sorted_data.drop(columns=['rank'])\n",
        "\n",
        "# from sklearn.preprocessing import StandardScaler\n",
        "\n",
        "# scaler = StandardScaler()\n",
        "\n",
        "# scaled_feature = scaler.fit_transform(feature)\n",
        "\n",
        "target = sorted_data['rank']\n",
        "\n",
        "feature_train, feature_test, target_train, target_test, qid_train, qid_test = train_test_split(feature, target, qid, test_size=0.2)\n"
      ],
      "metadata": {
        "id": "I229xgMxBxXD"
      },
      "execution_count": 3,
      "outputs": []
    },
    {
      "cell_type": "code",
      "source": [
        "import numpy as np\n",
        "\n",
        "_, group_train = np.unique(qid_train, return_counts=True)"
      ],
      "metadata": {
        "id": "1d8rf0dCHmJc"
      },
      "execution_count": 4,
      "outputs": []
    },
    {
      "cell_type": "markdown",
      "source": [
        "Модель - LambdaRank"
      ],
      "metadata": {
        "id": "GOT8J0GHNHDg"
      }
    },
    {
      "cell_type": "code",
      "source": [
        "import lightgbm\n",
        "from lightgbm import LGBMRanker\n",
        "\n",
        "from sklearn.datasets import load_svmlight_file\n",
        "from sklearn.model_selection import train_test_split\n",
        "\n",
        "train_data = lightgbm.Dataset(feature_train, label=target_train, group=group_train)\n",
        "\n",
        "params = {\n",
        "    'objective': 'lambdarank',\n",
        "    'metric': 'ndcg',\n",
        "    'boosting_type': 'gbdt',\n",
        "    'learning_rate': 0.1,\n",
        "    'max_depth': 13,\n",
        "    'num_leaves': 100,\n",
        "    'min_data_in_leaf': 50\n",
        "}\n",
        "\n",
        "num_round = 200\n",
        "model = lightgbm.train(params, train_data, num_round)"
      ],
      "metadata": {
        "colab": {
          "base_uri": "https://localhost:8080/"
        },
        "id": "sENW-OSwpTez",
        "outputId": "ab2d328a-2508-4a59-de9c-e31caa50264a"
      },
      "execution_count": 5,
      "outputs": [
        {
          "output_type": "stream",
          "name": "stdout",
          "text": [
            "[LightGBM] [Info] Auto-choosing col-wise multi-threading, the overhead of testing was 0.564597 seconds.\n",
            "You can set `force_col_wise=true` to remove the overhead.\n",
            "[LightGBM] [Info] Total Bins 26759\n",
            "[LightGBM] [Info] Number of data points in the train set: 188206, number of used features: 141\n"
          ]
        }
      ]
    },
    {
      "cell_type": "markdown",
      "source": [
        "Метрики@5: NCDG, MAP, ERR"
      ],
      "metadata": {
        "id": "7vw7O7E40RSM"
      }
    },
    {
      "cell_type": "code",
      "source": [
        "def ndcg(y_score, y_true, k):\n",
        "    order = np.argsort(y_score)[::-1]\n",
        "    y_true = np.take(y_true, order[:k])\n",
        "\n",
        "    gain = 2 ** y_true - 1\n",
        "\n",
        "    discounts = np.log2(np.arange(len(y_true)) + 2)\n",
        "    return np.sum(gain / discounts)"
      ],
      "metadata": {
        "id": "B9NR7bHTrOQ0"
      },
      "execution_count": 6,
      "outputs": []
    },
    {
      "cell_type": "code",
      "source": [
        "qids = np.unique(qid_test)"
      ],
      "metadata": {
        "id": "KREXGIYOrRTM"
      },
      "execution_count": 7,
      "outputs": []
    },
    {
      "cell_type": "code",
      "source": [
        "ndcg_ = list()\n",
        "\n",
        "for i, qid in enumerate(qids):\n",
        "    y = target_test[qid_test == qid]\n",
        "\n",
        "    if np.sum(y) == 0:\n",
        "        continue\n",
        "\n",
        "    p = model.predict(feature_test[qid_test == qid])\n",
        "\n",
        "    idcg = ndcg(y, y, k=5)\n",
        "    ndcg_.append(ndcg(p, y, k=5) / idcg)"
      ],
      "metadata": {
        "id": "n5tVcAS9rU-S"
      },
      "execution_count": 8,
      "outputs": []
    },
    {
      "cell_type": "code",
      "source": [
        "np.mean(ndcg_)"
      ],
      "metadata": {
        "colab": {
          "base_uri": "https://localhost:8080/"
        },
        "id": "svwGwPJsrXpJ",
        "outputId": "8f5b6c6d-78e3-4a08-fc2a-2726214957c9"
      },
      "execution_count": 9,
      "outputs": [
        {
          "output_type": "execute_result",
          "data": {
            "text/plain": [
              "0.5737116034289923"
            ]
          },
          "metadata": {},
          "execution_count": 9
        }
      ]
    },
    {
      "cell_type": "code",
      "source": [
        "def precision(y_score, y_true, k):\n",
        "    order = np.argsort(y_score)[::-1]\n",
        "    y_true_sorted = np.take(y_true, order)\n",
        "    relevant_docs = y_true_sorted[:k] > 0\n",
        "    num_relevant_docs = np.sum(relevant_docs)\n",
        "    precision = num_relevant_docs / k\n",
        "    return precision\n",
        "\n",
        "average_precisions = []\n",
        "\n",
        "for i, qid in enumerate(qids):\n",
        "    y = target_test[qid_test == qid]\n",
        "\n",
        "    if np.sum(y) == 0:\n",
        "        continue\n",
        "\n",
        "    p = model.predict(feature_test[qid_test == qid])\n",
        "\n",
        "    for k in range(1, 6):\n",
        "        average_precisions.append(precision(p, y, k))\n",
        "\n",
        "mean_average_precision = np.mean(average_precisions)\n"
      ],
      "metadata": {
        "id": "cPH2i5AijqHJ"
      },
      "execution_count": 10,
      "outputs": []
    },
    {
      "cell_type": "code",
      "source": [
        "print(mean_average_precision)"
      ],
      "metadata": {
        "colab": {
          "base_uri": "https://localhost:8080/"
        },
        "id": "-XIRwEDwx_fv",
        "outputId": "406d62e4-458a-4316-b5a3-0ff4e1ae31f3"
      },
      "execution_count": 11,
      "outputs": [
        {
          "output_type": "stream",
          "name": "stdout",
          "text": [
            "0.694006843147848\n"
          ]
        }
      ]
    },
    {
      "cell_type": "code",
      "source": [
        "def ERR(y_true, y_pred, k):\n",
        "    order = np.argsort(y_pred)[::-1]\n",
        "\n",
        "    y_true_sorted = np.take(y_true, order)\n",
        "\n",
        "    p_k = (2 ** y_true_sorted.iloc[0] - 1) / (2 ** 4)\n",
        "\n",
        "    p_i = [(2 ** y - 1)/ (2 ** 4) for y in y_true_sorted[:k-1]]\n",
        "\n",
        "    ERR_score = 0.0\n",
        "    for i in range(k):\n",
        "        if i < k - 1:\n",
        "            p = (1 - p_i[i])\n",
        "        else:\n",
        "            p = p_k\n",
        "        ERR_score += p / (i + 1)\n",
        "\n",
        "    return ERR_score\n",
        "\n",
        "ERR_score = ERR(target_test, model.predict(feature_test), 5)\n",
        "print(ERR_score)"
      ],
      "metadata": {
        "colab": {
          "base_uri": "https://localhost:8080/"
        },
        "id": "K1m2EkdTyHto",
        "outputId": "93bfe134-094c-43bf-fb06-b28393b8dc11"
      },
      "execution_count": 40,
      "outputs": [
        {
          "output_type": "stream",
          "name": "stdout",
          "text": [
            "0.5427083333333333\n"
          ]
        }
      ]
    }
  ]
}